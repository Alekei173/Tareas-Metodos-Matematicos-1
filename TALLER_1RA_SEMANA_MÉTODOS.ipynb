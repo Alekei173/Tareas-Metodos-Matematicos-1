{
  "nbformat": 4,
  "nbformat_minor": 0,
  "metadata": {
    "colab": {
      "provenance": [],
      "authorship_tag": "ABX9TyMvfrH9Wm3IeTo8g4igWZlk",
      "include_colab_link": true
    },
    "kernelspec": {
      "name": "python3",
      "display_name": "Python 3"
    },
    "language_info": {
      "name": "python"
    }
  },
  "cells": [
    {
      "cell_type": "markdown",
      "metadata": {
        "id": "view-in-github",
        "colab_type": "text"
      },
      "source": [
        "<a href=\"https://colab.research.google.com/github/Alekei173/Tareas-Metodos-Matematicos-1/blob/main/TALLER_1RA_SEMANA_M%C3%89TODOS.ipynb\" target=\"_parent\"><img src=\"https://colab.research.google.com/assets/colab-badge.svg\" alt=\"Open In Colab\"/></a>"
      ]
    },
    {
      "cell_type": "code",
      "execution_count": 2,
      "metadata": {
        "id": "hTbv42_mQWlp"
      },
      "outputs": [],
      "source": [
        "import sympy as sp"
      ]
    },
    {
      "cell_type": "code",
      "source": [
        "from sympy import *"
      ],
      "metadata": {
        "id": "fAqeCkmTRDHb"
      },
      "execution_count": 3,
      "outputs": []
    },
    {
      "cell_type": "code",
      "source": [
        "A=Matrix([0,0,1])\n",
        "B=Matrix([0,1,0])\n",
        "C=Matrix([1,0,0])"
      ],
      "metadata": {
        "id": "TppSS7T9ROfA"
      },
      "execution_count": 5,
      "outputs": []
    },
    {
      "cell_type": "code",
      "source": [
        "Funcion_Centroide=1/3*(A+B+C)"
      ],
      "metadata": {
        "id": "aaSIyqxfRZtX"
      },
      "execution_count": 6,
      "outputs": []
    },
    {
      "cell_type": "code",
      "source": [
        "Funcion_Centroide"
      ],
      "metadata": {
        "colab": {
          "base_uri": "https://localhost:8080/",
          "height": 78
        },
        "id": "voZVX5MpR5s0",
        "outputId": "c0a9b737-fe57-4d69-a63c-464723cd5e58"
      },
      "execution_count": 7,
      "outputs": [
        {
          "output_type": "execute_result",
          "data": {
            "text/plain": [
              "Matrix([\n",
              "[0.333333333333333],\n",
              "[0.333333333333333],\n",
              "[0.333333333333333]])"
            ],
            "text/latex": "$\\displaystyle \\left[\\begin{matrix}0.333333333333333\\\\0.333333333333333\\\\0.333333333333333\\end{matrix}\\right]$"
          },
          "metadata": {},
          "execution_count": 7
        }
      ]
    },
    {
      "cell_type": "code",
      "source": [
        "a=Matrix([1,2,3])\n",
        "b=Matrix([4,5,6])\n",
        "c=Matrix([3,2,1])\n",
        "d=Matrix([6,5,4])"
      ],
      "metadata": {
        "id": "zH2twh3HR7HN"
      },
      "execution_count": 42,
      "outputs": []
    },
    {
      "cell_type": "code",
      "source": [
        "Q=a+b+c+d\n",
        "W=a+b-c-d\n",
        "E=a-b+c-d\n",
        "R=-a+b-c+d"
      ],
      "metadata": {
        "id": "kpWvfp3XSdgI"
      },
      "execution_count": 43,
      "outputs": []
    },
    {
      "cell_type": "code",
      "source": [
        "print(Q,W,E,R)"
      ],
      "metadata": {
        "colab": {
          "base_uri": "https://localhost:8080/"
        },
        "id": "iLHrudrWTDjo",
        "outputId": "dc0726e3-b189-48ef-af9b-d506bb548071"
      },
      "execution_count": 44,
      "outputs": [
        {
          "output_type": "stream",
          "name": "stdout",
          "text": [
            "Matrix([[14], [14], [14]]) Matrix([[-4], [0], [4]]) Matrix([[-6], [-6], [-6]]) Matrix([[6], [6], [6]])\n"
          ]
        }
      ]
    },
    {
      "cell_type": "code",
      "source": [
        "import sympy as sp\n",
        "\n",
        "\n",
        "e1 = sp.Matrix([1, 0, 0])\n",
        "e2 = sp.Matrix([0, 1, 0])\n",
        "e3 = sp.Matrix([0, 0, 1])\n",
        "\n",
        "\n",
        "a=Matrix([1,2,3])\n",
        "b=Matrix([4,5,6])\n",
        "c=Matrix([3,2,1])\n",
        "d=Matrix([6,5,4])\n",
        "\n",
        "# Función para calcular ángulos con cada eje\n",
        "def angulos_con_ejes(v):\n",
        "    cosX = v.dot(e1) / v.norm()\n",
        "    cosY = v.dot(e2) / v.norm()\n",
        "    cosZ = v.dot(e3) / v.norm()\n",
        "    angX = acos(cosX) * 180 / sp.pi\n",
        "    angY = acos(cosY) * 180 / sp.pi\n",
        "    angZ = acos(cosZ) * 180 / sp.pi\n",
        "    return  angX, angY, angZ\n",
        "\n",
        "# Cálculo para cada vector\n",
        "AnguloQ = angulos_con_ejes(a)\n",
        "AnguloW = angulos_con_ejes(b)\n",
        "AnguloE = angulos_con_ejes(c)\n",
        "AnguloR = angulos_con_ejes(d)\n",
        "\n",
        "# Mostrar resultados\n",
        "print(\"Ángulos de Q con X, Y, Z:\", AnguloQ)\n",
        "print(\"Ángulos de W con X, Y, Z:\", AnguloW)\n",
        "print(\"Ángulos de E con X, Y, Z:\", AnguloE)\n",
        "print(\"Ángulos de R con X, Y, Z:\", AnguloR)\n",
        "\n",
        "def mag(v): return sp.sqrt((v.dot(v))).evalf()\n",
        "mag_a = mag(a)\n",
        "mag_b = mag(b)\n",
        "mag_c = mag(c)\n",
        "mag_d = mag(d)\n",
        "print(mag_a,mag_b,mag_c,mag_d)\n",
        "def angle_between(u, v):\n",
        "    Angulo = sp.acos(u.dot(v) / (u.norm() * v.norm())) * 180 / sp.pi\n",
        "    return (Angulo)\n",
        "ang_ab = angle_between(a, b)\n",
        "ang_cd = angle_between(c, d)\n",
        "print(ang_ab,ang_cd)\n",
        "def projection(u, v):\n",
        "    scalar = sp.N(u.dot(v) / v.dot(v))\n",
        "    return (scalar * v).evalf()\n",
        "proj_a_on_b = projection(a, b)\n",
        "print(proj_a_on_b)\n",
        "\n",
        "def is_coplanar(u, v, w):\n",
        "    val = (u.dot(v.cross(w)))\n",
        "    return val\n",
        "axbxc=is_coplanar(a,b,c)\n",
        "print(axbxc)\n",
        "bxcxd=is_coplanar(b,c,d)\n",
        "print(bxcxd)\n",
        "axbxd=is_coplanar(a,b,d)\n",
        "print(axbxd)\n",
        "axcxd=is_coplanar(a,c,d)\n",
        "print(axcxd)\n",
        "\n",
        "MONDONGO=(a+b).dot(c+d)\n",
        "print(MONDONGO)\n",
        "\n",
        "cross_ab = a.cross(b)\n",
        "cross_bc = b.cross(c)\n",
        "cross_cd = c.cross(d)\n",
        "\n",
        "ang_crossab_d = angle_between(cross_ab, d)\n",
        "ang_crossbc_d = angle_between(cross_bc, d)\n",
        "ang_crosscd_d = angle_between(cross_cd, d)\n",
        "\n",
        "print(\"a × b =\", cross_ab, \"  Ángulo con d =\", ang_crossab_d, \"°\")\n",
        "print(\"b × c =\", cross_bc, \"  Ángulo con d =\", ang_crossbc_d, \"°\")\n",
        "print(\"c × d =\", cross_cd, \"  Ángulo con d =\", ang_crosscd_d, \"°\")\n",
        "\n",
        "scalar_triple = sp.N(c.dot(a.cross(b)))\n",
        "print(\"c · (a × b) =\", scalar_triple)"
      ],
      "metadata": {
        "colab": {
          "base_uri": "https://localhost:8080/"
        },
        "id": "NFdX-w_uUwKi",
        "outputId": "4883d545-6ba2-41fc-d767-d7d504371b86"
      },
      "execution_count": 55,
      "outputs": [
        {
          "output_type": "stream",
          "name": "stdout",
          "text": [
            "Ángulos de Q con X, Y, Z: (180*acos(sqrt(14)/14)/pi, 180*acos(sqrt(14)/7)/pi, 180*acos(3*sqrt(14)/14)/pi)\n",
            "Ángulos de W con X, Y, Z: (180*acos(4*sqrt(77)/77)/pi, 180*acos(5*sqrt(77)/77)/pi, 180*acos(6*sqrt(77)/77)/pi)\n",
            "Ángulos de E con X, Y, Z: (180*acos(3*sqrt(14)/14)/pi, 180*acos(sqrt(14)/7)/pi, 180*acos(sqrt(14)/14)/pi)\n",
            "Ángulos de R con X, Y, Z: (180*acos(6*sqrt(77)/77)/pi, 180*acos(5*sqrt(77)/77)/pi, 180*acos(4*sqrt(77)/77)/pi)\n",
            "3.74165738677394 8.77496438739212 3.74165738677394 8.77496438739212\n",
            "180*acos(16*sqrt(22)/77)/pi 180*acos(16*sqrt(22)/77)/pi\n",
            "Matrix([[1.66233766233766], [2.07792207792208], [2.49350649350649]])\n",
            "0\n",
            "0\n",
            "0\n",
            "0\n",
            "139\n",
            "a × b = Matrix([[-3], [6], [-3]])   Ángulo con d = 90 °\n",
            "b × c = Matrix([[-7], [14], [-7]])   Ángulo con d = 90 °\n",
            "c × d = Matrix([[3], [-6], [3]])   Ángulo con d = 90 °\n",
            "c · (a × b) = 0\n"
          ]
        }
      ]
    },
    {
      "cell_type": "code",
      "source": [
        "\n",
        "t = sp.symbols('t', real=True)\n",
        "x, y = sp.symbols('x y', real=True)\n",
        "\n",
        "# Campo vectorial F\n",
        "Fx = -y / (x**2 + y**2)\n",
        "Fy =  x / (x**2 + y**2)\n",
        "\n",
        "# Parametrización del círculo de radio 1\n",
        "x_t = sp.cos(t)\n",
        "y_t = sp.sin(t)\n",
        "\n",
        "dx_dt = sp.diff(x_t, t)\n",
        "dy_dt = sp.diff(y_t, t)\n",
        "\n",
        "# Sustituimos en F\n",
        "Fx_t = Fx.subs({x: x_t, y: y_t})\n",
        "Fy_t = Fy.subs({x: x_t, y: y_t})\n",
        "\n",
        "F_dot_rp = Fx_t * dx_dt + Fy_t * dy_dt\n",
        "\n",
        "# (a) de 0 a pi en sentido antihorario\n",
        "trabajo_a = sp.integrate(F_dot_rp, (t, 0, sp.pi))\n",
        "\n",
        "# (b) de 0 a -pi en sentido horario\n",
        "trabajo_b = sp.integrate(F_dot_rp, (t, 0, -sp.pi))\n",
        "\n",
        "trabajo_a, trabajo_b.simplify()"
      ],
      "metadata": {
        "colab": {
          "base_uri": "https://localhost:8080/"
        },
        "id": "qsErGsDDi39N",
        "outputId": "9ce012f8-22b0-4d84-d50b-929f5763bfcb"
      },
      "execution_count": 56,
      "outputs": [
        {
          "output_type": "execute_result",
          "data": {
            "text/plain": [
              "(pi, -pi)"
            ]
          },
          "metadata": {},
          "execution_count": 56
        }
      ]
    }
  ]
}