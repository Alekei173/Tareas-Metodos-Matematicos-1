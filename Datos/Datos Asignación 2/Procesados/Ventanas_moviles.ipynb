{
 "cells": [
  {
   "cell_type": "markdown",
   "id": "2b8cb6f3",
   "metadata": {},
   "source": [
    "# Determinación distancia entre dos bases de datos"
   ]
  },
  {
   "cell_type": "markdown",
   "id": "99e05656",
   "metadata": {},
   "source": [
    "## 0. Se cargan las bibliotecas"
   ]
  },
  {
   "cell_type": "code",
   "execution_count": 1,
   "id": "65a14f41",
   "metadata": {},
   "outputs": [],
   "source": [
    "import numpy as np\n",
    "import pandas as pd"
   ]
  },
  {
   "cell_type": "markdown",
   "id": "2a9debf3",
   "metadata": {},
   "source": [
    "## 1. Se leen los datos y se definen los parametros relevantes"
   ]
  },
  {
   "cell_type": "code",
   "execution_count": 11,
   "id": "fd9c80b7",
   "metadata": {},
   "outputs": [],
   "source": [
    "data_AMB = pd.read_excel(\"datos_procesados_local_amb.xlsx\", usecols=\"A\")\n",
    "data_LOW_COST = pd.read_excel(\"datos_procesados_local_low_cost.xlsx\", usecols=\"A\")"
   ]
  },
  {
   "cell_type": "code",
   "execution_count": 12,
   "id": "d9debde2",
   "metadata": {},
   "outputs": [
    {
     "data": {
      "text/html": [
       "<div>\n",
       "<style scoped>\n",
       "    .dataframe tbody tr th:only-of-type {\n",
       "        vertical-align: middle;\n",
       "    }\n",
       "\n",
       "    .dataframe tbody tr th {\n",
       "        vertical-align: top;\n",
       "    }\n",
       "\n",
       "    .dataframe thead th {\n",
       "        text-align: right;\n",
       "    }\n",
       "</style>\n",
       "<table border=\"1\" class=\"dataframe\">\n",
       "  <thead>\n",
       "    <tr style=\"text-align: right;\">\n",
       "      <th></th>\n",
       "      <th>Unnamed: 0</th>\n",
       "    </tr>\n",
       "  </thead>\n",
       "  <tbody>\n",
       "    <tr>\n",
       "      <th>0</th>\n",
       "      <td>1</td>\n",
       "    </tr>\n",
       "    <tr>\n",
       "      <th>1</th>\n",
       "      <td>2</td>\n",
       "    </tr>\n",
       "    <tr>\n",
       "      <th>2</th>\n",
       "      <td>3</td>\n",
       "    </tr>\n",
       "    <tr>\n",
       "      <th>3</th>\n",
       "      <td>4</td>\n",
       "    </tr>\n",
       "    <tr>\n",
       "      <th>4</th>\n",
       "      <td>5</td>\n",
       "    </tr>\n",
       "    <tr>\n",
       "      <th>...</th>\n",
       "      <td>...</td>\n",
       "    </tr>\n",
       "    <tr>\n",
       "      <th>8025</th>\n",
       "      <td>8036</td>\n",
       "    </tr>\n",
       "    <tr>\n",
       "      <th>8026</th>\n",
       "      <td>8037</td>\n",
       "    </tr>\n",
       "    <tr>\n",
       "      <th>8027</th>\n",
       "      <td>8038</td>\n",
       "    </tr>\n",
       "    <tr>\n",
       "      <th>8028</th>\n",
       "      <td>8039</td>\n",
       "    </tr>\n",
       "    <tr>\n",
       "      <th>8029</th>\n",
       "      <td>8040</td>\n",
       "    </tr>\n",
       "  </tbody>\n",
       "</table>\n",
       "<p>8030 rows × 1 columns</p>\n",
       "</div>"
      ],
      "text/plain": [
       "      Unnamed: 0\n",
       "0              1\n",
       "1              2\n",
       "2              3\n",
       "3              4\n",
       "4              5\n",
       "...          ...\n",
       "8025        8036\n",
       "8026        8037\n",
       "8027        8038\n",
       "8028        8039\n",
       "8029        8040\n",
       "\n",
       "[8030 rows x 1 columns]"
      ]
     },
     "execution_count": 12,
     "metadata": {},
     "output_type": "execute_result"
    }
   ],
   "source": [
    "data_AMB"
   ]
  },
  {
   "cell_type": "code",
   "execution_count": 10,
   "id": "c5ac7827",
   "metadata": {},
   "outputs": [],
   "source": [
    "pd.read_excel??"
   ]
  },
  {
   "cell_type": "code",
   "execution_count": null,
   "id": "ec37b245",
   "metadata": {},
   "outputs": [],
   "source": []
  }
 ],
 "metadata": {
  "kernelspec": {
   "display_name": "Python 3 (ipykernel)",
   "language": "python",
   "name": "python3"
  },
  "language_info": {
   "codemirror_mode": {
    "name": "ipython",
    "version": 3
   },
   "file_extension": ".py",
   "mimetype": "text/x-python",
   "name": "python",
   "nbconvert_exporter": "python",
   "pygments_lexer": "ipython3",
   "version": "3.9.7"
  }
 },
 "nbformat": 4,
 "nbformat_minor": 5
}
