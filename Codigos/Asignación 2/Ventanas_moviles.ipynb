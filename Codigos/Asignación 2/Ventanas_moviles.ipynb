{
 "cells": [
  {
   "cell_type": "markdown",
   "id": "e913913c",
   "metadata": {},
   "source": [
    "# Determinación distancia entre dos bases de datos"
   ]
  },
  {
   "cell_type": "markdown",
   "id": "258069ec",
   "metadata": {},
   "source": [
    "## 0. Se cargan las bibliotecas"
   ]
  },
  {
   "cell_type": "code",
   "execution_count": 1,
   "id": "d60a9d01",
   "metadata": {},
   "outputs": [],
   "source": [
    "import numpy as np\n",
    "import pandas as pd\n",
    "import datetime\n",
    "import matplotlib.pyplot as plt"
   ]
  },
  {
   "cell_type": "markdown",
   "id": "ecb9ed9a",
   "metadata": {},
   "source": [
    "## 1. Se leen los datos y se definen los parametros relevantes"
   ]
  },
  {
   "cell_type": "code",
   "execution_count": 2,
   "id": "ba851781",
   "metadata": {},
   "outputs": [],
   "source": [
    "# Datos de AMB\n",
    "data_AMB = pd.read_excel(\"datos_procesados_local_amb.xlsx\")\n",
    "\n",
    "# Datos de los sensores low cost\n",
    "data_LOW_COST = pd.read_excel(\"datos_procesados_local_low_cost.xlsx\")"
   ]
  },
  {
   "cell_type": "code",
   "execution_count": 3,
   "id": "177ced78",
   "metadata": {},
   "outputs": [
    {
     "data": {
      "text/html": [
       "<div>\n",
       "<style scoped>\n",
       "    .dataframe tbody tr th:only-of-type {\n",
       "        vertical-align: middle;\n",
       "    }\n",
       "\n",
       "    .dataframe tbody tr th {\n",
       "        vertical-align: top;\n",
       "    }\n",
       "\n",
       "    .dataframe thead th {\n",
       "        text-align: right;\n",
       "    }\n",
       "</style>\n",
       "<table border=\"1\" class=\"dataframe\">\n",
       "  <thead>\n",
       "    <tr style=\"text-align: right;\">\n",
       "      <th></th>\n",
       "      <th>Time</th>\n",
       "      <th>AMB</th>\n",
       "    </tr>\n",
       "  </thead>\n",
       "  <tbody>\n",
       "    <tr>\n",
       "      <th>0</th>\n",
       "      <td>2018-10-01 00:00:00</td>\n",
       "      <td>6.4</td>\n",
       "    </tr>\n",
       "    <tr>\n",
       "      <th>1</th>\n",
       "      <td>2018-10-01 01:00:00</td>\n",
       "      <td>6.4</td>\n",
       "    </tr>\n",
       "    <tr>\n",
       "      <th>2</th>\n",
       "      <td>2018-10-01 02:00:00</td>\n",
       "      <td>6.7</td>\n",
       "    </tr>\n",
       "    <tr>\n",
       "      <th>3</th>\n",
       "      <td>2018-10-01 03:00:00</td>\n",
       "      <td>6</td>\n",
       "    </tr>\n",
       "    <tr>\n",
       "      <th>4</th>\n",
       "      <td>2018-10-01 04:00:00</td>\n",
       "      <td>7.3</td>\n",
       "    </tr>\n",
       "    <tr>\n",
       "      <th>...</th>\n",
       "      <td>...</td>\n",
       "      <td>...</td>\n",
       "    </tr>\n",
       "    <tr>\n",
       "      <th>8025</th>\n",
       "      <td>2019-08-31 19:00:00</td>\n",
       "      <td>20.4</td>\n",
       "    </tr>\n",
       "    <tr>\n",
       "      <th>8026</th>\n",
       "      <td>2019-08-31 20:00:00</td>\n",
       "      <td>18.7</td>\n",
       "    </tr>\n",
       "    <tr>\n",
       "      <th>8027</th>\n",
       "      <td>2019-08-31 21:00:00</td>\n",
       "      <td>22.8</td>\n",
       "    </tr>\n",
       "    <tr>\n",
       "      <th>8028</th>\n",
       "      <td>2019-08-31 22:00:00</td>\n",
       "      <td>25.2</td>\n",
       "    </tr>\n",
       "    <tr>\n",
       "      <th>8029</th>\n",
       "      <td>2019-08-31 23:00:00</td>\n",
       "      <td>18</td>\n",
       "    </tr>\n",
       "  </tbody>\n",
       "</table>\n",
       "<p>8030 rows × 2 columns</p>\n",
       "</div>"
      ],
      "text/plain": [
       "                    Time   AMB\n",
       "0    2018-10-01 00:00:00   6.4\n",
       "1    2018-10-01 01:00:00   6.4\n",
       "2    2018-10-01 02:00:00   6.7\n",
       "3    2018-10-01 03:00:00     6\n",
       "4    2018-10-01 04:00:00   7.3\n",
       "...                  ...   ...\n",
       "8025 2019-08-31 19:00:00  20.4\n",
       "8026 2019-08-31 20:00:00  18.7\n",
       "8027 2019-08-31 21:00:00  22.8\n",
       "8028 2019-08-31 22:00:00  25.2\n",
       "8029 2019-08-31 23:00:00    18\n",
       "\n",
       "[8030 rows x 2 columns]"
      ]
     },
     "execution_count": 3,
     "metadata": {},
     "output_type": "execute_result"
    }
   ],
   "source": [
    "data_AMB"
   ]
  },
  {
   "cell_type": "code",
   "execution_count": 4,
   "id": "50678e2a",
   "metadata": {
    "scrolled": false
   },
   "outputs": [
    {
     "data": {
      "text/html": [
       "<div>\n",
       "<style scoped>\n",
       "    .dataframe tbody tr th:only-of-type {\n",
       "        vertical-align: middle;\n",
       "    }\n",
       "\n",
       "    .dataframe tbody tr th {\n",
       "        vertical-align: top;\n",
       "    }\n",
       "\n",
       "    .dataframe thead th {\n",
       "        text-align: right;\n",
       "    }\n",
       "</style>\n",
       "<table border=\"1\" class=\"dataframe\">\n",
       "  <thead>\n",
       "    <tr style=\"text-align: right;\">\n",
       "      <th></th>\n",
       "      <th>Time</th>\n",
       "      <th>Low-cost</th>\n",
       "    </tr>\n",
       "  </thead>\n",
       "  <tbody>\n",
       "    <tr>\n",
       "      <th>0</th>\n",
       "      <td>2018-11-03 23:32:49.639</td>\n",
       "      <td>9.083333</td>\n",
       "    </tr>\n",
       "    <tr>\n",
       "      <th>1</th>\n",
       "      <td>2018-11-03 23:37:50.639</td>\n",
       "      <td>9.083333</td>\n",
       "    </tr>\n",
       "    <tr>\n",
       "      <th>2</th>\n",
       "      <td>2018-11-03 23:42:50.639</td>\n",
       "      <td>8.583334</td>\n",
       "    </tr>\n",
       "    <tr>\n",
       "      <th>3</th>\n",
       "      <td>2018-11-03 23:47:49.641</td>\n",
       "      <td>8.666667</td>\n",
       "    </tr>\n",
       "    <tr>\n",
       "      <th>4</th>\n",
       "      <td>2018-11-03 23:52:49.638</td>\n",
       "      <td>8.666666</td>\n",
       "    </tr>\n",
       "    <tr>\n",
       "      <th>...</th>\n",
       "      <td>...</td>\n",
       "      <td>...</td>\n",
       "    </tr>\n",
       "    <tr>\n",
       "      <th>5003</th>\n",
       "      <td>2019-09-01 00:02:50.912</td>\n",
       "      <td>6.166667</td>\n",
       "    </tr>\n",
       "    <tr>\n",
       "      <th>5004</th>\n",
       "      <td>2019-09-01 01:02:49.911</td>\n",
       "      <td>7.833333</td>\n",
       "    </tr>\n",
       "    <tr>\n",
       "      <th>5005</th>\n",
       "      <td>2019-09-01 02:02:49.912</td>\n",
       "      <td>5.416667</td>\n",
       "    </tr>\n",
       "    <tr>\n",
       "      <th>5006</th>\n",
       "      <td>2019-09-01 03:02:49.912</td>\n",
       "      <td>5.750000</td>\n",
       "    </tr>\n",
       "    <tr>\n",
       "      <th>5007</th>\n",
       "      <td>2019-09-01 04:03:01.820</td>\n",
       "      <td>19.166668</td>\n",
       "    </tr>\n",
       "  </tbody>\n",
       "</table>\n",
       "<p>5008 rows × 2 columns</p>\n",
       "</div>"
      ],
      "text/plain": [
       "                         Time   Low-cost\n",
       "0     2018-11-03 23:32:49.639   9.083333\n",
       "1     2018-11-03 23:37:50.639   9.083333\n",
       "2     2018-11-03 23:42:50.639   8.583334\n",
       "3     2018-11-03 23:47:49.641   8.666667\n",
       "4     2018-11-03 23:52:49.638   8.666666\n",
       "...                       ...        ...\n",
       "5003  2019-09-01 00:02:50.912   6.166667\n",
       "5004  2019-09-01 01:02:49.911   7.833333\n",
       "5005  2019-09-01 02:02:49.912   5.416667\n",
       "5006  2019-09-01 03:02:49.912   5.750000\n",
       "5007  2019-09-01 04:03:01.820  19.166668\n",
       "\n",
       "[5008 rows x 2 columns]"
      ]
     },
     "execution_count": 4,
     "metadata": {},
     "output_type": "execute_result"
    }
   ],
   "source": [
    "data_LOW_COST"
   ]
  },
  {
   "cell_type": "code",
   "execution_count": 5,
   "id": "b22275dd",
   "metadata": {
    "scrolled": true
   },
   "outputs": [],
   "source": [
    "# Se convierten las fechas a formato datetime\n",
    "\n",
    "data_AMB['Time']      = pd.to_datetime(data_AMB['Time'])\n",
    "data_LOW_COST['Time'] = pd.to_datetime(data_LOW_COST['Time'])\n",
    "\n",
    "\n",
    "# Se convierten en la columna de índices de los datos\n",
    "\n",
    "data_AMB      = data_AMB.set_index('Time')\n",
    "data_LOW_COST = data_LOW_COST.set_index('Time')\n",
    "\n",
    "# Se eliminan las filas con ceros en los archivos\n",
    "data_AMB      = data_AMB.dropna()\n",
    "data_LOW_COST = data_LOW_COST.dropna()"
   ]
  },
  {
   "cell_type": "code",
   "execution_count": 6,
   "id": "656f671d",
   "metadata": {},
   "outputs": [],
   "source": [
    "# Parametros del código\n",
    "\n",
    "## Intervalos inferior y superior del tiempo de AMB y low-cost\n",
    "a1 = data_AMB.index[0]\n",
    "b1 = data_AMB.index[-1]\n",
    "\n",
    "a2 = data_LOW_COST.index[0]\n",
    "b2 = data_LOW_COST.index[-1]\n",
    "\n",
    "## Longitud de la ventana\n",
    "l = datetime.timedelta(hours=5)\n",
    "\n",
    "## Largo del paso\n",
    "Eps = datetime.timedelta(hours=1)\n",
    "\n",
    "## Lista que contendrá los errores entre los puntos promedios de low-cost y AMB\n",
    "Errores = []"
   ]
  },
  {
   "cell_type": "markdown",
   "id": "9d1d5da7",
   "metadata": {},
   "source": [
    "## 2. Analisis de los datos"
   ]
  },
  {
   "cell_type": "code",
   "execution_count": 7,
   "id": "9c186078",
   "metadata": {
    "scrolled": true
   },
   "outputs": [
    {
     "data": {
      "text/plain": [
       "<matplotlib.legend.Legend at 0x1fe696c4520>"
      ]
     },
     "execution_count": 7,
     "metadata": {},
     "output_type": "execute_result"
    },
    {
     "data": {
      "image/png": "[encoded data removed]",
      "text/plain": [
       "<Figure size 432x288 with 1 Axes>"
      ]
     },
     "metadata": {
      "needs_background": "light"
     },
     "output_type": "display_data"
    }
   ],
   "source": [
    "for i in range(len(data_AMB['AMB'])):\n",
    "    if data_AMB['AMB'][i] == 'NoData':\n",
    "        data_AMB['AMB'][i] = None\n",
    "    if data_AMB['AMB'][i] == '---':\n",
    "        data_AMB['AMB'][i] = None\n",
    "    if data_AMB['AMB'][i] == '<Samp':\n",
    "        data_AMB['AMB'][i] = None\n",
    "data_AMB2 = data_AMB.dropna()\n",
    "plt.plot(data_AMB2, label='AMB')\n",
    "plt.plot(data_LOW_COST, label='Low-cost')\n",
    "plt.legend()"
   ]
  },
  {
   "cell_type": "code",
   "execution_count": 8,
   "id": "4a5deeff",
   "metadata": {
    "scrolled": false
   },
   "outputs": [
    {
     "data": {
      "text/plain": [
       "[[Timestamp('2018-11-03 23:32:49.639000'),\n",
       "  Timestamp('2018-11-05 23:47:49.256000')],\n",
       " [Timestamp('2018-11-06 20:08:58.465000'),\n",
       "  Timestamp('2018-11-06 21:44:01.391000')],\n",
       " [Timestamp('2018-11-07 13:19:44.636000'),\n",
       "  Timestamp('2018-11-07 16:01:06.779000')],\n",
       " [Timestamp('2018-11-27 16:04:21.138000'),\n",
       "  Timestamp('2018-12-14 20:19:18.424000')],\n",
       " [Timestamp('2019-04-11 17:29:20.949000'),\n",
       "  Timestamp('2019-04-14 18:02:50.829000')],\n",
       " [Timestamp('2019-04-15 02:06:50.826000'),\n",
       "  Timestamp('2019-04-15 04:04:42.806000')],\n",
       " [Timestamp('2019-04-15 21:04:32.933000'),\n",
       "  Timestamp('2019-04-24 03:02:52.699000')],\n",
       " [Timestamp('2019-04-25 06:37:04.991000'),\n",
       "  Timestamp('2019-04-26 12:02:50.230000')],\n",
       " [Timestamp('2019-04-27 01:26:09.967000'),\n",
       "  Timestamp('2019-06-05 13:03:01.770000')],\n",
       " [Timestamp('2019-06-05 23:26:26.603000'),\n",
       "  Timestamp('2019-09-01 04:03:01.820000')]]"
      ]
     },
     "execution_count": 8,
     "metadata": {},
     "output_type": "execute_result"
    }
   ],
   "source": [
    "Intervalos = []\n",
    "aux = data_LOW_COST.index[0]\n",
    "for i in range(len(data_LOW_COST)-1):\n",
    "    if (data_LOW_COST.index[i+1] - data_LOW_COST.index[i]) > datetime.timedelta(hours=5):\n",
    "        Intervalos.append([aux, data_LOW_COST.index[i]])\n",
    "        aux = data_LOW_COST.index[i+1]\n",
    "Intervalos.append([aux, data_LOW_COST.index[-1]])\n",
    "\n",
    "aux = Intervalos.copy()\n",
    "for i in range(len(Intervalos)):\n",
    "    if Intervalos[i][0] == Intervalos[i][1]:\n",
    "        aux.remove(Intervalos[i])\n",
    "Intervalos = aux\n",
    "Intervalos"
   ]
  },
  {
   "cell_type": "code",
   "execution_count": 9,
   "id": "8772e5dc",
   "metadata": {
    "scrolled": false
   },
   "outputs": [
    {
     "data": {
      "text/html": [
       "<div>\n",
       "<style scoped>\n",
       "    .dataframe tbody tr th:only-of-type {\n",
       "        vertical-align: middle;\n",
       "    }\n",
       "\n",
       "    .dataframe tbody tr th {\n",
       "        vertical-align: top;\n",
       "    }\n",
       "\n",
       "    .dataframe thead th {\n",
       "        text-align: right;\n",
       "    }\n",
       "</style>\n",
       "<table border=\"1\" class=\"dataframe\">\n",
       "  <thead>\n",
       "    <tr style=\"text-align: right;\">\n",
       "      <th></th>\n",
       "      <th>Low-cost</th>\n",
       "    </tr>\n",
       "  </thead>\n",
       "  <tbody>\n",
       "    <tr>\n",
       "      <th>2018-11-04 00:00:00</th>\n",
       "      <td>12.2</td>\n",
       "    </tr>\n",
       "    <tr>\n",
       "      <th>2018-11-04 01:00:00</th>\n",
       "      <td>12.6</td>\n",
       "    </tr>\n",
       "    <tr>\n",
       "      <th>2018-11-04 02:00:00</th>\n",
       "      <td>12.1</td>\n",
       "    </tr>\n",
       "    <tr>\n",
       "      <th>2018-11-04 03:00:00</th>\n",
       "      <td>8.8</td>\n",
       "    </tr>\n",
       "    <tr>\n",
       "      <th>2018-11-04 04:00:00</th>\n",
       "      <td>9.6</td>\n",
       "    </tr>\n",
       "    <tr>\n",
       "      <th>...</th>\n",
       "      <td>...</td>\n",
       "    </tr>\n",
       "    <tr>\n",
       "      <th>2019-08-31 19:00:00</th>\n",
       "      <td>20.4</td>\n",
       "    </tr>\n",
       "    <tr>\n",
       "      <th>2019-08-31 20:00:00</th>\n",
       "      <td>18.7</td>\n",
       "    </tr>\n",
       "    <tr>\n",
       "      <th>2019-08-31 21:00:00</th>\n",
       "      <td>22.8</td>\n",
       "    </tr>\n",
       "    <tr>\n",
       "      <th>2019-08-31 22:00:00</th>\n",
       "      <td>25.2</td>\n",
       "    </tr>\n",
       "    <tr>\n",
       "      <th>2019-08-31 23:00:00</th>\n",
       "      <td>18.0</td>\n",
       "    </tr>\n",
       "  </tbody>\n",
       "</table>\n",
       "<p>3802 rows × 1 columns</p>\n",
       "</div>"
      ],
      "text/plain": [
       "                     Low-cost\n",
       "2018-11-04 00:00:00      12.2\n",
       "2018-11-04 01:00:00      12.6\n",
       "2018-11-04 02:00:00      12.1\n",
       "2018-11-04 03:00:00       8.8\n",
       "2018-11-04 04:00:00       9.6\n",
       "...                       ...\n",
       "2019-08-31 19:00:00      20.4\n",
       "2019-08-31 20:00:00      18.7\n",
       "2019-08-31 21:00:00      22.8\n",
       "2019-08-31 22:00:00      25.2\n",
       "2019-08-31 23:00:00      18.0\n",
       "\n",
       "[3802 rows x 1 columns]"
      ]
     },
     "execution_count": 9,
     "metadata": {},
     "output_type": "execute_result"
    }
   ],
   "source": [
    "data_AMB2_reduce = pd.DataFrame({},columns=['Time','Low-cost'])\n",
    "data_AMB2_reduce = data_AMB2_reduce.set_index('Time')\n",
    "for i in range(len(data_AMB2)):\n",
    "    date = data_AMB2.index[i] \n",
    "    for j in range(len(Intervalos)):\n",
    "        if (date >= Intervalos[j][0]) and (date <= Intervalos[j][1]):\n",
    "            data_AMB2_reduce = data_AMB2_reduce.append( pd.DataFrame({'Low-cost':float(data_AMB2.values[i][0])}, index=[date]) )\n",
    "            break\n",
    "            \n",
    "data_AMB2_reduce"
   ]
  },
  {
   "cell_type": "code",
   "execution_count": 10,
   "id": "e733609e",
   "metadata": {},
   "outputs": [
    {
     "data": {
      "text/html": [
       "<div>\n",
       "<style scoped>\n",
       "    .dataframe tbody tr th:only-of-type {\n",
       "        vertical-align: middle;\n",
       "    }\n",
       "\n",
       "    .dataframe tbody tr th {\n",
       "        vertical-align: top;\n",
       "    }\n",
       "\n",
       "    .dataframe thead th {\n",
       "        text-align: right;\n",
       "    }\n",
       "</style>\n",
       "<table border=\"1\" class=\"dataframe\">\n",
       "  <thead>\n",
       "    <tr style=\"text-align: right;\">\n",
       "      <th></th>\n",
       "      <th>Low-cost</th>\n",
       "    </tr>\n",
       "    <tr>\n",
       "      <th>Time</th>\n",
       "      <th></th>\n",
       "    </tr>\n",
       "  </thead>\n",
       "  <tbody>\n",
       "    <tr>\n",
       "      <th>2018-11-03 23:32:49.639</th>\n",
       "      <td>9.083333</td>\n",
       "    </tr>\n",
       "    <tr>\n",
       "      <th>2018-11-03 23:37:50.639</th>\n",
       "      <td>9.083333</td>\n",
       "    </tr>\n",
       "    <tr>\n",
       "      <th>2018-11-03 23:42:50.639</th>\n",
       "      <td>8.583334</td>\n",
       "    </tr>\n",
       "    <tr>\n",
       "      <th>2018-11-03 23:47:49.641</th>\n",
       "      <td>8.666667</td>\n",
       "    </tr>\n",
       "    <tr>\n",
       "      <th>2018-11-03 23:52:49.638</th>\n",
       "      <td>8.666666</td>\n",
       "    </tr>\n",
       "    <tr>\n",
       "      <th>...</th>\n",
       "      <td>...</td>\n",
       "    </tr>\n",
       "    <tr>\n",
       "      <th>2019-09-01 00:02:50.912</th>\n",
       "      <td>6.166667</td>\n",
       "    </tr>\n",
       "    <tr>\n",
       "      <th>2019-09-01 01:02:49.911</th>\n",
       "      <td>7.833333</td>\n",
       "    </tr>\n",
       "    <tr>\n",
       "      <th>2019-09-01 02:02:49.912</th>\n",
       "      <td>5.416667</td>\n",
       "    </tr>\n",
       "    <tr>\n",
       "      <th>2019-09-01 03:02:49.912</th>\n",
       "      <td>5.750000</td>\n",
       "    </tr>\n",
       "    <tr>\n",
       "      <th>2019-09-01 04:03:01.820</th>\n",
       "      <td>19.166668</td>\n",
       "    </tr>\n",
       "  </tbody>\n",
       "</table>\n",
       "<p>5008 rows × 1 columns</p>\n",
       "</div>"
      ],
      "text/plain": [
       "                          Low-cost\n",
       "Time                              \n",
       "2018-11-03 23:32:49.639   9.083333\n",
       "2018-11-03 23:37:50.639   9.083333\n",
       "2018-11-03 23:42:50.639   8.583334\n",
       "2018-11-03 23:47:49.641   8.666667\n",
       "2018-11-03 23:52:49.638   8.666666\n",
       "...                            ...\n",
       "2019-09-01 00:02:50.912   6.166667\n",
       "2019-09-01 01:02:49.911   7.833333\n",
       "2019-09-01 02:02:49.912   5.416667\n",
       "2019-09-01 03:02:49.912   5.750000\n",
       "2019-09-01 04:03:01.820  19.166668\n",
       "\n",
       "[5008 rows x 1 columns]"
      ]
     },
     "execution_count": 10,
     "metadata": {},
     "output_type": "execute_result"
    }
   ],
   "source": [
    "data_LOW_COST"
   ]
  },
  {
   "cell_type": "code",
   "execution_count": 11,
   "id": "a4033043",
   "metadata": {},
   "outputs": [
    {
     "data": {
      "text/plain": [
       "<matplotlib.legend.Legend at 0x1fe6aecdc70>"
      ]
     },
     "execution_count": 11,
     "metadata": {},
     "output_type": "execute_result"
    },
    {
     "data": {
      "image/png": "[encoded data removed]",
      "text/plain": [
       "<Figure size 432x288 with 1 Axes>"
      ]
     },
     "metadata": {
      "needs_background": "light"
     },
     "output_type": "display_data"
    }
   ],
   "source": [
    "plt.plot(data_AMB2_reduce, label='AMB')\n",
    "plt.plot(data_LOW_COST, label='Low-cost')\n",
    "plt.legend()"
   ]
  },
  {
   "cell_type": "markdown",
   "id": "18739284",
   "metadata": {},
   "source": [
    "## 3. Funciones y rutinas"
   ]
  },
  {
   "cell_type": "code",
   "execution_count": 44,
   "id": "e90435e1",
   "metadata": {},
   "outputs": [],
   "source": [
    "\n",
    "def fun(): \n",
    "    M = len(data_AMB2_reduce)\n",
    "    N = len(data_LOW_COST)\n",
    "\n",
    "    width=int((b2-a2-l)/Eps)\n",
    "    I = Intervalos[-2]\n",
    "\n",
    "    aux1=0\n",
    "    aux2=0\n",
    "    for i in range(width):\n",
    "        if (a2+Eps*i+l) > b2:\n",
    "            break\n",
    "\n",
    "        window = [a2+Eps*i, a2+Eps*i+l]\n",
    "        list1 = []\n",
    "        list2 = []\n",
    "\n",
    "        date = window[0]\n",
    "        if date >=I[0] and date<=I[1]:\n",
    "            pass\n",
    "\n",
    "        else:\n",
    "            for j in range(aux1, M):\n",
    "                date = data_AMB2_reduce.index[j]\n",
    "                if (date >= window[0]) and (date <= window[1]):\n",
    "                    list1.append(data_AMB2_reduce.values[j][0])\n",
    "                elif date>= window[1]:\n",
    "                    aux1 = int(j) \n",
    "                    break\n",
    "\n",
    "            for k in range(aux2, N):\n",
    "                date = data_LOW_COST.index[j]\n",
    "                if (date >= window[0]) and (date <= window[1]):\n",
    "                    list2.append(data_LOW_COST.values[k][0])\n",
    "                elif date>= window[1]:\n",
    "                    aux2 = int(k)\n",
    "                    break\n",
    "\n",
    "            Errores.append(abs(np.mean(list1)-np.mean(list2)))\n",
    "            if i % int(width/5) < 1 and i>0:\n",
    "                print(i/width*100,'%')\n",
    "\n",
    "    sumaq=0\n",
    "    for i in range(len(Errores)):\n",
    "        sumaq += Errores[i]**2\n",
    "\n",
    "    DISTANCIA = np.sqrt(sumaq)\n",
    "    return DISTANCIA"
   ]
  },
  {
   "cell_type": "code",
   "execution_count": null,
   "id": "f175ecb1",
   "metadata": {},
   "outputs": [
    {
     "name": "stdout",
     "output_type": "stream",
     "text": [
      "19.991693202270525 %\n",
      "39.98338640454105 %\n"
     ]
    }
   ],
   "source": [
    "%time fun()"
   ]
  }
 ],
 "metadata": {
  "kernelspec": {
   "display_name": "Python 3 (ipykernel)",
   "language": "python",
   "name": "python3"
  },
  "language_info": {
   "codemirror_mode": {
    "name": "ipython",
    "version": 3
   },
   "file_extension": ".py",
   "mimetype": "text/x-python",
   "name": "python",
   "nbconvert_exporter": "python",
   "pygments_lexer": "ipython3",
   "version": "3.9.7"
  }
 },
 "nbformat": 4,
 "nbformat_minor": 5
}
