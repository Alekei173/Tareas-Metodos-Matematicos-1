{
 "cells": [
  {
   "cell_type": "markdown",
   "id": "5809ef73",
   "metadata": {},
   "source": [
    "# Determinación distancia entre dos bases de datos"
   ]
  },
  {
   "cell_type": "markdown",
   "id": "293fb74f",
   "metadata": {},
   "source": [
    "## 0. Se cargan las bibliotecas"
   ]
  },
  {
   "cell_type": "code",
   "execution_count": 1,
   "id": "7df1fd57",
   "metadata": {},
   "outputs": [],
   "source": [
    "import numpy as np\n",
    "import pandas as pd"
   ]
  },
  {
   "cell_type": "markdown",
   "id": "6ef6c0f7",
   "metadata": {},
   "source": [
    "## 1. Se leen los datos y se definen los parametros relevantes"
   ]
  },
  {
   "cell_type": "code",
   "execution_count": 16,
   "id": "59ea6157",
   "metadata": {},
   "outputs": [],
   "source": [
    "data_AMB = pd.read_excel(\"datos_procesados_local_amb.xlsx\", index_col=0)\n",
    "data_LOW_COST = pd.read_excel(\"datos_procesados_local_low_cost.xlsx\", index_col=0)"
   ]
  },
  {
   "cell_type": "code",
   "execution_count": 17,
   "id": "35f77af5",
   "metadata": {},
   "outputs": [
    {
     "data": {
      "text/html": [
       "<div>\n",
       "<style scoped>\n",
       "    .dataframe tbody tr th:only-of-type {\n",
       "        vertical-align: middle;\n",
       "    }\n",
       "\n",
       "    .dataframe tbody tr th {\n",
       "        vertical-align: top;\n",
       "    }\n",
       "\n",
       "    .dataframe thead th {\n",
       "        text-align: right;\n",
       "    }\n",
       "</style>\n",
       "<table border=\"1\" class=\"dataframe\">\n",
       "  <thead>\n",
       "    <tr style=\"text-align: right;\">\n",
       "      <th></th>\n",
       "      <th>PM2.5 UG/M3</th>\n",
       "    </tr>\n",
       "    <tr>\n",
       "      <th>Date&amp;Time</th>\n",
       "      <th></th>\n",
       "    </tr>\n",
       "  </thead>\n",
       "  <tbody>\n",
       "    <tr>\n",
       "      <th>2018-10-01 00:00:00</th>\n",
       "      <td>6.4</td>\n",
       "    </tr>\n",
       "    <tr>\n",
       "      <th>2018-10-01 01:00:00</th>\n",
       "      <td>6.4</td>\n",
       "    </tr>\n",
       "    <tr>\n",
       "      <th>2018-10-01 02:00:00</th>\n",
       "      <td>6.7</td>\n",
       "    </tr>\n",
       "    <tr>\n",
       "      <th>2018-10-01 03:00:00</th>\n",
       "      <td>6</td>\n",
       "    </tr>\n",
       "    <tr>\n",
       "      <th>2018-10-01 04:00:00</th>\n",
       "      <td>7.3</td>\n",
       "    </tr>\n",
       "    <tr>\n",
       "      <th>...</th>\n",
       "      <td>...</td>\n",
       "    </tr>\n",
       "    <tr>\n",
       "      <th>2019-08-31 19:00:00</th>\n",
       "      <td>20.4</td>\n",
       "    </tr>\n",
       "    <tr>\n",
       "      <th>2019-08-31 20:00:00</th>\n",
       "      <td>18.7</td>\n",
       "    </tr>\n",
       "    <tr>\n",
       "      <th>2019-08-31 21:00:00</th>\n",
       "      <td>22.8</td>\n",
       "    </tr>\n",
       "    <tr>\n",
       "      <th>2019-08-31 22:00:00</th>\n",
       "      <td>25.2</td>\n",
       "    </tr>\n",
       "    <tr>\n",
       "      <th>2019-08-31 23:00:00</th>\n",
       "      <td>18</td>\n",
       "    </tr>\n",
       "  </tbody>\n",
       "</table>\n",
       "<p>8030 rows × 1 columns</p>\n",
       "</div>"
      ],
      "text/plain": [
       "                    PM2.5 UG/M3\n",
       "Date&Time                      \n",
       "2018-10-01 00:00:00         6.4\n",
       "2018-10-01 01:00:00         6.4\n",
       "2018-10-01 02:00:00         6.7\n",
       "2018-10-01 03:00:00           6\n",
       "2018-10-01 04:00:00         7.3\n",
       "...                         ...\n",
       "2019-08-31 19:00:00        20.4\n",
       "2019-08-31 20:00:00        18.7\n",
       "2019-08-31 21:00:00        22.8\n",
       "2019-08-31 22:00:00        25.2\n",
       "2019-08-31 23:00:00          18\n",
       "\n",
       "[8030 rows x 1 columns]"
      ]
     },
     "execution_count": 17,
     "metadata": {},
     "output_type": "execute_result"
    }
   ],
   "source": [
    "data_AMB"
   ]
  },
  {
   "cell_type": "code",
   "execution_count": null,
   "id": "0f6a9557",
   "metadata": {},
   "outputs": [],
   "source": []
  }
 ],
 "metadata": {
  "kernelspec": {
   "display_name": "Python 3 (ipykernel)",
   "language": "python",
   "name": "python3"
  },
  "language_info": {
   "codemirror_mode": {
    "name": "ipython",
    "version": 3
   },
   "file_extension": ".py",
   "mimetype": "text/x-python",
   "name": "python",
   "nbconvert_exporter": "python",
   "pygments_lexer": "ipython3",
   "version": "3.9.7"
  }
 },
 "nbformat": 4,
 "nbformat_minor": 5
}
